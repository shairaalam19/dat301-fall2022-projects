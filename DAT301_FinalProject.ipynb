{
 "cells": [
  {
   "cell_type": "markdown",
   "id": "4cbf1ce0-932a-45a9-b436-45e5a442926b",
   "metadata": {},
   "source": [
    "# DAT301 Final Project Fall 2022\n",
    "**Authors: Amber Kahklen, Shaira Alam, Alyssa Stefencavage**"
   ]
  },
  {
   "cell_type": "markdown",
   "id": "8568d0c1-b8b2-42cc-a9ee-d65f9291d9fa",
   "metadata": {},
   "source": [
    "### Dataset and Information"
   ]
  },
  {
   "cell_type": "code",
   "execution_count": null,
   "id": "447928da-df35-4ac4-a0de-0e2d35392517",
   "metadata": {},
   "outputs": [],
   "source": []
  },
  {
   "cell_type": "markdown",
   "id": "7f9d6c3f-4b22-4aed-badd-8c16fc8b7091",
   "metadata": {},
   "source": [
    "### What We Did"
   ]
  },
  {
   "cell_type": "code",
   "execution_count": null,
   "id": "b84295b3-62b2-403b-9e54-4fe7f67b2f7a",
   "metadata": {},
   "outputs": [],
   "source": []
  },
  {
   "cell_type": "markdown",
   "id": "85b11b55-1dfe-44d6-b3dd-09679f529d76",
   "metadata": {},
   "source": [
    "### Linear Regression"
   ]
  },
  {
   "cell_type": "code",
   "execution_count": null,
   "id": "a65b739c-7805-46eb-9542-b6dca19e27f7",
   "metadata": {},
   "outputs": [],
   "source": []
  },
  {
   "cell_type": "markdown",
   "id": "7dc3cce9-7342-41c6-96f0-56ef6040d851",
   "metadata": {},
   "source": [
    "### Graph One: "
   ]
  },
  {
   "cell_type": "code",
   "execution_count": null,
   "id": "61f8e060-4010-4c31-9609-b42de7833065",
   "metadata": {},
   "outputs": [],
   "source": []
  },
  {
   "cell_type": "markdown",
   "id": "b8626373-ed5d-4c8e-b234-78a58957dd14",
   "metadata": {},
   "source": [
    "### Graph Two:"
   ]
  },
  {
   "cell_type": "code",
   "execution_count": null,
   "id": "16aeca00-eb28-421c-acfb-05a62942a5fe",
   "metadata": {},
   "outputs": [],
   "source": []
  },
  {
   "cell_type": "markdown",
   "id": "b9588060-3a62-4949-94a1-87027c9eed28",
   "metadata": {},
   "source": [
    "### Graph Three:"
   ]
  },
  {
   "cell_type": "code",
   "execution_count": null,
   "id": "21ecc9cc-2450-4ad9-af30-15160a2c4ab0",
   "metadata": {},
   "outputs": [],
   "source": []
  },
  {
   "cell_type": "markdown",
   "id": "92dddff5-5305-4b10-bf1c-c570e926f7b7",
   "metadata": {},
   "source": [
    "### Graph Four:"
   ]
  },
  {
   "cell_type": "code",
   "execution_count": null,
   "id": "9fff4c68-efc0-4712-93de-a5ed0d5750bc",
   "metadata": {},
   "outputs": [],
   "source": []
  }
 ],
 "metadata": {
  "kernelspec": {
   "display_name": "Python 3 (ipykernel)",
   "language": "python",
   "name": "python3"
  },
  "language_info": {
   "codemirror_mode": {
    "name": "ipython",
    "version": 3
   },
   "file_extension": ".py",
   "mimetype": "text/x-python",
   "name": "python",
   "nbconvert_exporter": "python",
   "pygments_lexer": "ipython3",
   "version": "3.9.12"
  }
 },
 "nbformat": 4,
 "nbformat_minor": 5
}
