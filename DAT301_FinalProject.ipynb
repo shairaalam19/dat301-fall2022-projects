{
 "cells": [
  {
   "cell_type": "markdown",
   "id": "4cbf1ce0-932a-45a9-b436-45e5a442926b",
   "metadata": {},
   "source": [
    "# DAT301 Final Project Fall 2022\n",
    "**Authors: Amber Kahklen (akahklen, 1216918261), Shaira Alam (salam13, 1216475247), Alyssa Stefencavage (astefenc, 1213852690)**"
   ]
  },
  {
   "cell_type": "markdown",
   "id": "8568d0c1-b8b2-42cc-a9ee-d65f9291d9fa",
   "metadata": {},
   "source": [
    "### Dataset and Information\n",
    "**Income Prediction Based on Census Data** <br>\n",
    "\n",
    "UCI's Machine learning Repository, Adult Data Set: <a href=\"https://archive.ics.uci.edu/ml/datasets/Adult\">https://archive.ics.uci.edu/ml/datasets/Adult</a> <br>\n",
    "\n",
    "- The dataset provides census information in relation to if income is above or below $50,000 a year\n",
    "- The data extration was done by Berry Becker and was taken from the 1994 census database\n",
    "- Due to the fact that the dataset is from 1994 the data unfortunetely does not take into account inflation up until the current year"
   ]
  },
  {
   "cell_type": "markdown",
   "id": "7f9d6c3f-4b22-4aed-badd-8c16fc8b7091",
   "metadata": {},
   "source": [
    "### Information on Data\n",
    "\n",
    "**age**: continuous.\n",
    "\n",
    "**workclass**: Private, Self-emp-not-inc, Self-emp-inc, Federal-gov, Local-gov, State-gov,    Without-pay, Never-worked.\n",
    "            \n",
    "**fnlwgt**: continuous. \n",
    "- The number of people one row represents\n",
    "\n",
    "**education**: Bachelors, Some-college, 11th, HS-grad, Prof-school, Assoc-acdm, Assoc-voc, 9th, \n",
    "            7th-8th, 12th, Masters, 1st-4th, 10th, Doctorate, 5th-6th, Preschool.\n",
    "            \n",
    "**education-num**: continuous.\n",
    "\n",
    "**marital-status**: Married-civ-spouse, Divorced, Never-married, Separated, Widowed, \n",
    "                Married-spouse-absent, Married-AF-spouse.\n",
    "- Married-civ-spouse: Married to a civilian\n",
    "- Married-AF-spouse: Married to someone in the Armed Forces\n",
    "                \n",
    "**occupation**: Tech-support, Craft-repair, Other-service, Sales, Exec-managerial, Prof-specialty, \n",
    "            Handlers-cleaners, Machine-op-inspct, Adm-clerical, Farming-fishing, Transport-moving,             Priv-house-serv, Protective-serv, Armed-Forces.\n",
    "            \n",
    "**relationship**: Wife, Own-child, Husband, Not-in-family, Other-relative, Unmarried.\n",
    "\n",
    "**race**: White, Asian-Pac-Islander, Amer-Indian-Eskimo, Other, Black.\n",
    "\n",
    "**sex**: Female, Male.\n",
    "\n",
    "**capital-gain**: continuous\n",
    "\n",
    "**capital-loss**: continuous\n",
    "\n",
    "**hours-per-week**: continuous.\n",
    "\n",
    "**native-country**: United-States, Cambodia, England, Puerto-Rico, Canada, Germany, \n",
    "                  Outlying-US(Guam-USVI-etc), India, Japan, Greece, South, China, Cuba, Iran,                       Honduras, Philippines, Italy, Poland, Jamaica, Vietnam, Mexico, Portugal,                         Ireland, France, Dominican-Republic, Laos, Ecuador, Taiwan, Haiti, Columbia,                      Hungary, Guatemala, Nicaragua, Scotland, Thailand, Yugoslavia, El-Salvador,                       Trinadad&Tobago, Peru, Hong, Holand-Netherlands."
   ]
  },
  {
   "cell_type": "markdown",
   "id": "5ece93a4-fb0f-4f7e-9bbe-c88914f40fb7",
   "metadata": {},
   "source": [
    "### Motivation\n",
    "\n",
    "- To gain a perspective on the different impacts of various categories on the amount of money people make\n",
    "- To help us understand possible things that could affect our wage and possible things to avoid that could hinder us"
   ]
  },
  {
   "cell_type": "markdown",
   "id": "4c488400-db7e-4a6b-a572-2d123311008a",
   "metadata": {},
   "source": [
    "### Setup"
   ]
  },
  {
   "cell_type": "code",
   "execution_count": 76,
   "id": "a65b739c-7805-46eb-9542-b6dca19e27f7",
   "metadata": {},
   "outputs": [],
   "source": [
    "import pandas as pd\n",
    "import numpy as np\n",
    "import scipy.stats as st\n",
    "import matplotlib.pyplot as plt\n",
    "import seaborn as sns\n",
    "import statsmodels.formula.api as smf\n",
    "from sklearn import tree\n",
    "from sklearn.metrics import confusion_matrix\n",
    "from sklearn.model_selection import train_test_split\n",
    "from sklearn.ensemble import RandomForestClassifier\n",
    "from sklearn.preprocessing import LabelEncoder\n",
    "from sklearn.metrics import mean_squared_error\n",
    "\n",
    "\n",
    "df = pd.read_csv(\"adultdata.csv\")\n",
    "\n",
    "#These next two lines get rid of any null or NaN values\n",
    "df.replace(' ?', None, inplace = True)\n",
    "df = df.dropna()\n",
    "\n",
    "#BLELOW HERE FOR SETUP is all transforming string values into int values for the Random Forest Classifier\n",
    "df_allnums = df\n",
    "df_allnums.columns = [\"age\", \"workclass\", \"fnlwgt\", \"education\", \"education_num\", \"marital_status\", \"occupation\", \"relationship\", \"race\", \"sex\", \"capital_gain\", \"capital_loss\", \"hours_per_week\", \"native_country\", \"wage_below_orAbove_50k\"]\n",
    "df_allnums.workclass.replace((' Private', ' Self-emp-not-inc', ' Self-emp-inc', ' Federal-gov', ' Local-gov', ' State-gov', ' Without-pay', ' Never-worked'), (1, 2, 3, 4, 5, 6, 7, 8), inplace = True)\n",
    "df_allnums.marital_status.replace((' Married-civ-spouse', ' Divorced', ' Never-married', ' Separated', ' Widowed', ' Married-spouse-absent', ' Married-AF-spouse'), (1, 2, 3, 4, 5, 6, 7), inplace = True)\n",
    "df_allnums.occupation.replace((' Tech-support', ' Craft-repair', ' Other-service', ' Sales', ' Exec-managerial', ' Prof-specialty', ' Handlers-cleaners', ' Machine-op-inspct', ' Adm-clerical', ' Farming-fishing', ' Transport-moving', ' Priv-house-serv', ' Protective-serv', ' Armed-Forces'), (1, 2, 3, 4, 5, 6, 7, 8, 9, 10, 11, 12, 13, 14), inplace = True)\n",
    "df_allnums.relationship.replace((' Wife', ' Own-child', ' Husband', ' Not-in-family', ' Other-relative', ' Unmarried'), (1, 2, 3, 4, 5, 6), inplace = True)\n",
    "df_allnums.race.replace((' White', ' Asian-Pac-Islander', ' Amer-Indian-Eskimo', ' Other', ' Black'), (1, 2, 3, 4, 5), inplace = True)\n",
    "df_allnums.sex.replace((' Female', ' Male'), (1, 2), inplace = True)\n",
    "df_allnums.native_country.replace((' United-States',' Cambodia',' England',' Puerto-Rico',' Canada',' Germany',' Outlying-US(Guam-USVI-etc)',' India',' Japan',' Greece',' South',' China',' Cuba',' Iran',' Honduras',' Philippines',' Italy',' Poland',' Jamaica',' Vietnam',' Mexico',' Portugal',' Ireland',' France',' Dominican-Republic',' Laos',' Ecuador',' Taiwan',' Haiti',' Columbia',' Hungary',' Guatemala',' Nicaragua',' Scotland',' Thailand',' Yugoslavia',' El-Salvador',' Trinadad&Tobago',' Peru',' Hong',' Holand-Netherlands'), (1,2,3,4,5,6,7,8,9,10,11,12,13,14,15,16,17,18,19,20,21,22,23,24,25,26,27,28,29,30,31,32,33,34,35,36,37,38,39,40,41), inplace = True)\n",
    "df_allnums.wage_below_orAbove_50k.replace((' <=50K', ' >50K'), (0, 1), inplace = True)"
   ]
  },
  {
   "cell_type": "markdown",
   "id": "85b11b55-1dfe-44d6-b3dd-09679f529d76",
   "metadata": {},
   "source": [
    "### Random Forest Classifier"
   ]
  },
  {
   "cell_type": "code",
   "execution_count": 81,
   "id": "b7528fdd-a367-46e3-b021-8cabfa7032c0",
   "metadata": {},
   "outputs": [],
   "source": [
    "x = df_allnums.loc[:, [\"age\", \"workclass\", \"fnlwgt\", \"education_num\", \"marital_status\", \"occupation\", \"relationship\", \"race\", \"sex\", \"capital_gain\", \"capital_loss\", \"hours_per_week\", \"native_country\"]]\n",
    "y = df_allnums.wage_below_orAbove_50k\n",
    "\n",
    "#splits data 25% test sets and 75% training sets\n",
    "xtrain, xtest, ytrain, ytest = train_test_split(x, y, test_size = 0.25, random_state = 0)\n",
    "\n",
    "randomForestClassifier = RandomForestClassifier(criterion = \"gini\", random_state = 100, max_depth = 3, min_samples_leaf = 5)\n",
    "model_randomForestC = randomForestClassifier.fit(xtrain, ytrain)\n",
    "predict = randomForestClassifier.predict(xtest)\n",
    "confusionMatrix = confusion_matrix(ytest, predict)\n",
    "mse = mean_squared_error(ytest, predict)"
   ]
  },
  {
   "cell_type": "markdown",
   "id": "c5bb29b1-aea8-4bf3-8029-701d95e301b7",
   "metadata": {},
   "source": [
    "**Confusion Matrix**"
   ]
  },
  {
   "cell_type": "code",
   "execution_count": 84,
   "id": "3f61648e-05cd-46f3-a895-490f612252d3",
   "metadata": {},
   "outputs": [
    {
     "name": "stdout",
     "output_type": "stream",
     "text": [
      "[[5560  171]\n",
      " [1042  768]]\n"
     ]
    }
   ],
   "source": [
    "print(confusionMatrix)"
   ]
  },
  {
   "cell_type": "markdown",
   "id": "9214eb8f-66a0-40ee-868e-d660ae8e7dc3",
   "metadata": {},
   "source": [
    "**Mean Squared Error**"
   ]
  },
  {
   "cell_type": "code",
   "execution_count": 85,
   "id": "7bcf0ee4-33f4-459f-a3ca-be77bc569b8a",
   "metadata": {},
   "outputs": [
    {
     "name": "stdout",
     "output_type": "stream",
     "text": [
      "0.1608539981434823\n"
     ]
    }
   ],
   "source": [
    "print(mse)"
   ]
  },
  {
   "cell_type": "markdown",
   "id": "b4cbfea1-b727-4a34-a1aa-3c23fdc0b31d",
   "metadata": {},
   "source": [
    "- The top left value in the confusion matrix is the number of True Positives (TP = 5560)\n",
    "- The top right value in the confusion matrix is the number of False Negatives (FN = 171)\n",
    "- The bottom left value in the confusion matrix is the number of False Positives (FP = 1042)\n",
    "- The bottom right value in the confusion matrix is the number of True Negatives (TN = 768)\n",
    "\n",
    "**Using the equations for accuracy, precision, sensitivity, specificity, and F-score we are going to calculate the performance metrics:**\n",
    "\n",
    "Accuracy = (TP + TN)/(TP + TN + FP + FN)\n",
    "\n",
    "Precision = TP/(TP + FP)\n",
    "\n",
    "Sensitivity = TP/(TP + FN)\n",
    "\n",
    "Specificity = TN/(TN + FP)\n",
    "\n",
    "F-score = 2((Precision*Sensitivity)/(Precision + Sensitivity)\n",
    "\n",
    "**Using those equations we get:**\n",
    "\n",
    "Accuracy = (5560 + 768)/(5560 + 768 + 1042 + 171) = 0.8391\n",
    "\n",
    "Precision = 5560/(5560 + 1042) = 0.8422\n",
    "\n",
    "Sensitivity = 5560/(5560 + 171) = 0.9702\n",
    "\n",
    "Specificity = 768/(768 + 1042) = 0.4243\n",
    "\n",
    "F-score = 2((0.8422*0.9702)/(0.8422 + 0.9702) = 0.9016"
   ]
  },
  {
   "cell_type": "markdown",
   "id": "7dc3cce9-7342-41c6-96f0-56ef6040d851",
   "metadata": {},
   "source": [
    "### Graph One: "
   ]
  },
  {
   "cell_type": "code",
   "execution_count": null,
   "id": "61f8e060-4010-4c31-9609-b42de7833065",
   "metadata": {},
   "outputs": [],
   "source": []
  },
  {
   "cell_type": "markdown",
   "id": "b8626373-ed5d-4c8e-b234-78a58957dd14",
   "metadata": {},
   "source": [
    "### Graph Two:"
   ]
  },
  {
   "cell_type": "code",
   "execution_count": null,
   "id": "16aeca00-eb28-421c-acfb-05a62942a5fe",
   "metadata": {},
   "outputs": [],
   "source": []
  },
  {
   "cell_type": "markdown",
   "id": "b9588060-3a62-4949-94a1-87027c9eed28",
   "metadata": {},
   "source": [
    "### Graph Three:"
   ]
  },
  {
   "cell_type": "code",
   "execution_count": null,
   "id": "21ecc9cc-2450-4ad9-af30-15160a2c4ab0",
   "metadata": {},
   "outputs": [],
   "source": []
  },
  {
   "cell_type": "markdown",
   "id": "92dddff5-5305-4b10-bf1c-c570e926f7b7",
   "metadata": {},
   "source": [
    "### Graph Four:"
   ]
  },
  {
   "cell_type": "code",
   "execution_count": null,
   "id": "9fff4c68-efc0-4712-93de-a5ed0d5750bc",
   "metadata": {},
   "outputs": [],
   "source": []
  }
 ],
 "metadata": {
  "kernelspec": {
   "display_name": "Python 3 (ipykernel)",
   "language": "python",
   "name": "python3"
  },
  "language_info": {
   "codemirror_mode": {
    "name": "ipython",
    "version": 3
   },
   "file_extension": ".py",
   "mimetype": "text/x-python",
   "name": "python",
   "nbconvert_exporter": "python",
   "pygments_lexer": "ipython3",
   "version": "3.9.12"
  }
 },
 "nbformat": 4,
 "nbformat_minor": 5
}
